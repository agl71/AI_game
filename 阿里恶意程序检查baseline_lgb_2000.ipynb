{
 "cells": [
  {
   "cell_type": "code",
   "execution_count": null,
   "metadata": {
    "collapsed": false
   },
   "outputs": [],
   "source": [
    "# 同时添加如下代码, 这样每次环境(kernel)启动的时候只要运行下方代码即可: \n",
    "# Also add the following code, \n",
    "# so that every time the environment (kernel) starts, \n",
    "# just run the following code: \n",
    "import sys \n",
    "sys.path.append('/home/aistudio/external-libraries')"
   ]
  },
  {
   "cell_type": "markdown",
   "metadata": {
    "collapsed": false
   },
   "source": [
    "请点击[此处](https://ai.baidu.com/docs#/AIStudio_Project_Notebook/a38e5576)查看本环境基本用法.  <br>\n",
    "Please click [here ](https://ai.baidu.com/docs#/AIStudio_Project_Notebook/a38e5576) for more detailed instructions. "
   ]
  },
  {
   "cell_type": "code",
   "execution_count": 1,
   "metadata": {
    "collapsed": false
   },
   "outputs": [],
   "source": [
    "import pandas as pd"
   ]
  },
  {
   "cell_type": "code",
   "execution_count": null,
   "metadata": {
    "collapsed": false
   },
   "outputs": [],
   "source": [
    "#数据加载\r\n",
    "def get_data(file_name):\r\n",
    "    result = []\r\n",
    "    chunk_index = 0\r\n",
    "    for df in pd.read_csv(open(file_name,'r'),chunksize =1000000):\r\n",
    "        result.append(df)\r\n",
    "        print('chunk',chunk_index)\r\n",
    "        chunk_index += 1\r\n",
    "    result = pd.concat(result,ignore_index=True,axis=0)\r\n",
    "    return result\r\n"
   ]
  },
  {
   "cell_type": "code",
   "execution_count": null,
   "metadata": {
    "collapsed": false
   },
   "outputs": [],
   "source": [
    "#获取全量数据\r\n",
    "'''\r\n",
    "train = get_data('./data/data100940/security_train.csv')\r\n",
    "\r\n",
    "import pickle\r\n",
    "with open('./train.pkl','wb') as f:\r\n",
    "    pickle.dump(train,f)\r\n",
    "\r\n",
    "import gc\r\n",
    "del train\r\n",
    "gc.collect()\r\n",
    "\r\n",
    "test = get_data('./data/data100940/security_test.csv')\r\n",
    "\r\n",
    "with open('./test.pkl','wb') as f:\r\n",
    "    pickle.dump(test,f)\r\n",
    "\r\n",
    "del test\r\n",
    "gc.collect()\r\n",
    "'''"
   ]
  },
  {
   "cell_type": "code",
   "execution_count": null,
   "metadata": {
    "collapsed": false
   },
   "outputs": [],
   "source": [
    "'''\r\n",
    "#用pickle读取，不会内存意出\r\n",
    "import pickle\r\n",
    "with open('./train.pkl','rb') as f:\r\n",
    "    train = pickle.load(f)\r\n",
    "\r\n",
    "with open('./test.pkl','rb') as f:\r\n",
    "    test = pickle.load(f)\r\n",
    "'''"
   ]
  },
  {
   "cell_type": "code",
   "execution_count": null,
   "metadata": {
    "collapsed": false
   },
   "outputs": [
    {
     "data": {
      "text/plain": [
       "count                   89806693\n",
       "unique                       295\n",
       "top       LdrGetProcedureAddress\n",
       "freq                    10704305\n",
       "Name: api, dtype: object"
      ]
     },
     "execution_count": null,
     "metadata": {},
     "output_type": "execute_result"
    }
   ],
   "source": [
    "#对api字段进行LabelEncoder\r\n",
    "train['api'].describe()"
   ]
  },
  {
   "cell_type": "code",
   "execution_count": null,
   "metadata": {
    "collapsed": false
   },
   "outputs": [],
   "source": [
    "'''\r\n",
    "from sklearn.preprocessing import LabelEncoder\r\n",
    "le = LabelEncoder()\r\n",
    "'''"
   ]
  },
  {
   "cell_type": "code",
   "execution_count": null,
   "metadata": {
    "collapsed": false
   },
   "outputs": [
    {
     "data": {
      "text/html": [
       "<div>\n",
       "<style scoped>\n",
       "    .dataframe tbody tr th:only-of-type {\n",
       "        vertical-align: middle;\n",
       "    }\n",
       "\n",
       "    .dataframe tbody tr th {\n",
       "        vertical-align: top;\n",
       "    }\n",
       "\n",
       "    .dataframe thead th {\n",
       "        text-align: right;\n",
       "    }\n",
       "</style>\n",
       "<table border=\"1\" class=\"dataframe\">\n",
       "  <thead>\n",
       "    <tr style=\"text-align: right;\">\n",
       "      <th></th>\n",
       "      <th>api</th>\n",
       "    </tr>\n",
       "  </thead>\n",
       "  <tbody>\n",
       "    <tr>\n",
       "      <th>0</th>\n",
       "      <td>135</td>\n",
       "    </tr>\n",
       "    <tr>\n",
       "      <th>1</th>\n",
       "      <td>134</td>\n",
       "    </tr>\n",
       "    <tr>\n",
       "      <th>2</th>\n",
       "      <td>134</td>\n",
       "    </tr>\n",
       "    <tr>\n",
       "      <th>3</th>\n",
       "      <td>134</td>\n",
       "    </tr>\n",
       "    <tr>\n",
       "      <th>4</th>\n",
       "      <td>134</td>\n",
       "    </tr>\n",
       "    <tr>\n",
       "      <th>...</th>\n",
       "      <td>...</td>\n",
       "    </tr>\n",
       "    <tr>\n",
       "      <th>79288370</th>\n",
       "      <td>266</td>\n",
       "    </tr>\n",
       "    <tr>\n",
       "      <th>79288371</th>\n",
       "      <td>266</td>\n",
       "    </tr>\n",
       "    <tr>\n",
       "      <th>79288372</th>\n",
       "      <td>152</td>\n",
       "    </tr>\n",
       "    <tr>\n",
       "      <th>79288373</th>\n",
       "      <td>281</td>\n",
       "    </tr>\n",
       "    <tr>\n",
       "      <th>79288374</th>\n",
       "      <td>197</td>\n",
       "    </tr>\n",
       "  </tbody>\n",
       "</table>\n",
       "<p>169095068 rows × 1 columns</p>\n",
       "</div>"
      ],
      "text/plain": [
       "          api\n",
       "0         135\n",
       "1         134\n",
       "2         134\n",
       "3         134\n",
       "4         134\n",
       "...       ...\n",
       "79288370  266\n",
       "79288371  266\n",
       "79288372  152\n",
       "79288373  281\n",
       "79288374  197\n",
       "\n",
       "[169095068 rows x 1 columns]"
      ]
     },
     "execution_count": null,
     "metadata": {},
     "output_type": "execute_result"
    }
   ],
   "source": [
    "'''\r\n",
    "#将训练集和测试机合并\r\n",
    "df_all = pd.concat([train,test])\r\n",
    "df_all['api'] = le.fit_transform(df_all['api'])\r\n",
    "df_all[['api']]\r\n",
    "'''"
   ]
  },
  {
   "cell_type": "code",
   "execution_count": null,
   "metadata": {
    "collapsed": false
   },
   "outputs": [],
   "source": [
    "'''\r\n",
    "#提取train['api']\r\n",
    "train['api'] = df_all[df_all['label'].notnull()]['api']\r\n",
    "test['api'] = df_all[df_all['label'].isnull()]['api']\r\n",
    "'''\r\n"
   ]
  },
  {
   "cell_type": "code",
   "execution_count": null,
   "metadata": {
    "collapsed": false
   },
   "outputs": [
    {
     "data": {
      "text/plain": [
       "113"
      ]
     },
     "execution_count": null,
     "metadata": {},
     "output_type": "execute_result"
    }
   ],
   "source": [
    "'''\r\n",
    "import gc\r\n",
    "del df_all\r\n",
    "gc.collect()\r\n",
    "'''\r\n"
   ]
  },
  {
   "cell_type": "code",
   "execution_count": null,
   "metadata": {
    "collapsed": false
   },
   "outputs": [],
   "source": [
    "#构造新特征(基于fileID的聚合统计)\r\n",
    "def get_features(df):\r\n",
    "    #按照file_id分组，提取统计特征\r\n",
    "    df_file = df.groupby('file_id')\r\n",
    "    #df1为最终结果\r\n",
    "    if 'label' in df.columns: #训练集\r\n",
    "        df1 = df.drop_duplicates(subset=['file_id','label'],keep='first')\r\n",
    "    else:\r\n",
    "        df1 = df.drop_duplicates(subset=['file_id'],keep='first')\r\n",
    "    df1 = df1.sort_values('file_id')\r\n",
    "    #提取多个统计特征\r\n",
    "    features = ['api','tid','index']\r\n",
    "    for f in features:\r\n",
    "        #针对file_id构造不同特征，一个file_id只有一行数据\r\n",
    "        df1[f + '_count'] = df_file[f].count().values\r\n",
    "        df1[f + '_nunique'] = df_file[f].nunique().values\r\n",
    "        df1[f + '_min'] = df_file[f].min().values\r\n",
    "        df1[f + '_max'] = df_file[f].max().values\r\n",
    "        df1[f + '_mean'] = df_file[f].mean().values\r\n",
    "        df1[f + '_median'] = df_file[f].median().values\r\n",
    "        df1[f + '_std'] = df_file[f].std().values\r\n",
    "        df1[f + '_ptp'] = df1[f + '_max'] - df1[f + '_min']\r\n",
    "\r\n",
    "    return df1\r\n"
   ]
  },
  {
   "cell_type": "code",
   "execution_count": null,
   "metadata": {
    "collapsed": false
   },
   "outputs": [],
   "source": [
    "'''\r\n",
    "df_train = get_features(train)\r\n",
    "df_test = get_features(test)\r\n",
    "df_train.to_pickle('./df_train.pkl')\r\n",
    "df_test.to_pickle('./df_test.pkl')\r\n",
    "'''"
   ]
  },
  {
   "cell_type": "code",
   "execution_count": 2,
   "metadata": {
    "collapsed": false
   },
   "outputs": [],
   "source": [
    "import pickle\r\n",
    "with open('./df_train.pkl','rb') as file:\r\n",
    "    df_train = pickle.load(file)\r\n",
    "with open('./df_test.pkl','rb') as file:\r\n",
    "    df_test = pickle.load(file)"
   ]
  },
  {
   "cell_type": "code",
   "execution_count": 3,
   "metadata": {
    "collapsed": false
   },
   "outputs": [
    {
     "data": {
      "text/html": [
       "<style type='text/css'>\n",
       ".datatable table.frame { margin-bottom: 0; }\n",
       ".datatable table.frame thead { border-bottom: none; }\n",
       ".datatable table.frame tr.coltypes td {  color: #FFFFFF;  line-height: 6px;  padding: 0 0.5em;}\n",
       ".datatable .bool    { background: #DDDD99; }\n",
       ".datatable .object  { background: #565656; }\n",
       ".datatable .int     { background: #5D9E5D; }\n",
       ".datatable .float   { background: #4040CC; }\n",
       ".datatable .str     { background: #CC4040; }\n",
       ".datatable .row_index {  background: var(--jp-border-color3);  border-right: 1px solid var(--jp-border-color0);  color: var(--jp-ui-font-color3);  font-size: 9px;}\n",
       ".datatable .frame tr.coltypes .row_index {  background: var(--jp-border-color0);}\n",
       ".datatable th:nth-child(2) { padding-left: 12px; }\n",
       ".datatable .hellipsis {  color: var(--jp-cell-editor-border-color);}\n",
       ".datatable .vellipsis {  background: var(--jp-layout-color0);  color: var(--jp-cell-editor-border-color);}\n",
       ".datatable .na {  color: var(--jp-cell-editor-border-color);  font-size: 80%;}\n",
       ".datatable .footer { font-size: 9px; }\n",
       ".datatable .frame_dimensions {  background: var(--jp-border-color3);  border-top: 1px solid var(--jp-border-color0);  color: var(--jp-ui-font-color3);  display: inline-block;  opacity: 0.6;  padding: 1px 10px 1px 5px;}\n",
       "</style>\n"
      ],
      "text/plain": [
       "<IPython.core.display.HTML object>"
      ]
     },
     "metadata": {},
     "output_type": "display_data"
    },
    {
     "data": {
      "text/plain": [
       "LGBMClassifier(colsample_bytree=1, learning_rate=0.005, min_child_samples=3,\n",
       "               n_estimators=2000, objective='multiclass', random_state=2021,\n",
       "               reg_alpha=0.25, reg_lambda=0.25, subsample=1)"
      ]
     },
     "execution_count": 3,
     "metadata": {},
     "output_type": "execute_result"
    }
   ],
   "source": [
    "import lightgbm as lgb\r\n",
    "clf = lgb.LGBMClassifier(\r\n",
    "            num_leaves=2**5-1, reg_alpha=0.25, reg_lambda=0.25, objective='multiclass',\r\n",
    "            max_depth=-1, learning_rate=0.005, min_child_samples=3, random_state=2021,\r\n",
    "            n_estimators=2000, subsample=1, colsample_bytree=1)\r\n",
    "clf.fit(df_train.drop('label',axis=1),df_train['label'])"
   ]
  },
  {
   "cell_type": "code",
   "execution_count": null,
   "metadata": {
    "collapsed": false
   },
   "outputs": [],
   "source": [
    "import xgboost as xgb\r\n",
    "model_xgb = xgb.XGBClassifier(\r\n",
    "            max_depth=9, learning_rate=0.005, n_estimators=2000, \r\n",
    "            objective='multi:softprob', tree_method='gpu_hist', \r\n",
    "            subsample=0.8, colsample_bytree=0.8, \r\n",
    "            min_child_samples=3, eval_metric='logloss', reg_lambda=0.5)\r\n"
   ]
  },
  {
   "cell_type": "code",
   "execution_count": 4,
   "metadata": {
    "collapsed": false
   },
   "outputs": [
    {
     "data": {
      "text/plain": [
       "(12955, 8)"
      ]
     },
     "execution_count": 4,
     "metadata": {},
     "output_type": "execute_result"
    }
   ],
   "source": [
    "result = clf.predict_proba(df_test)\r\n",
    "result\r\n",
    "result.shape"
   ]
  },
  {
   "cell_type": "code",
   "execution_count": null,
   "metadata": {
    "collapsed": false
   },
   "outputs": [
    {
     "data": {
      "text/plain": [
       "array([7, 0, 0, ..., 5, 5, 5])"
      ]
     },
     "execution_count": null,
     "metadata": {},
     "output_type": "execute_result"
    }
   ],
   "source": [
    "result"
   ]
  },
  {
   "cell_type": "code",
   "execution_count": 7,
   "metadata": {
    "collapsed": false
   },
   "outputs": [
    {
     "data": {
      "text/html": [
       "<div>\n",
       "<style scoped>\n",
       "    .dataframe tbody tr th:only-of-type {\n",
       "        vertical-align: middle;\n",
       "    }\n",
       "\n",
       "    .dataframe tbody tr th {\n",
       "        vertical-align: top;\n",
       "    }\n",
       "\n",
       "    .dataframe thead th {\n",
       "        text-align: right;\n",
       "    }\n",
       "</style>\n",
       "<table border=\"1\" class=\"dataframe\">\n",
       "  <thead>\n",
       "    <tr style=\"text-align: right;\">\n",
       "      <th></th>\n",
       "      <th>prob0</th>\n",
       "      <th>prob1</th>\n",
       "      <th>prob2</th>\n",
       "      <th>prob3</th>\n",
       "      <th>prob4</th>\n",
       "      <th>prob5</th>\n",
       "      <th>prob6</th>\n",
       "      <th>prob7</th>\n",
       "      <th>file_id</th>\n",
       "    </tr>\n",
       "  </thead>\n",
       "  <tbody>\n",
       "    <tr>\n",
       "      <th>0</th>\n",
       "      <td>0.012991</td>\n",
       "      <td>0.002973</td>\n",
       "      <td>0.116246</td>\n",
       "      <td>0.112650</td>\n",
       "      <td>0.000771</td>\n",
       "      <td>0.018385</td>\n",
       "      <td>0.008723</td>\n",
       "      <td>0.727260</td>\n",
       "      <td>1</td>\n",
       "    </tr>\n",
       "    <tr>\n",
       "      <th>1</th>\n",
       "      <td>0.875510</td>\n",
       "      <td>0.000939</td>\n",
       "      <td>0.005767</td>\n",
       "      <td>0.006461</td>\n",
       "      <td>0.000534</td>\n",
       "      <td>0.053984</td>\n",
       "      <td>0.018161</td>\n",
       "      <td>0.038644</td>\n",
       "      <td>2</td>\n",
       "    </tr>\n",
       "    <tr>\n",
       "      <th>2</th>\n",
       "      <td>0.998085</td>\n",
       "      <td>0.000038</td>\n",
       "      <td>0.000218</td>\n",
       "      <td>0.000072</td>\n",
       "      <td>0.000013</td>\n",
       "      <td>0.000740</td>\n",
       "      <td>0.000151</td>\n",
       "      <td>0.000684</td>\n",
       "      <td>3</td>\n",
       "    </tr>\n",
       "    <tr>\n",
       "      <th>3</th>\n",
       "      <td>0.045739</td>\n",
       "      <td>0.001098</td>\n",
       "      <td>0.004962</td>\n",
       "      <td>0.198713</td>\n",
       "      <td>0.001311</td>\n",
       "      <td>0.132568</td>\n",
       "      <td>0.026041</td>\n",
       "      <td>0.589569</td>\n",
       "      <td>4</td>\n",
       "    </tr>\n",
       "    <tr>\n",
       "      <th>4</th>\n",
       "      <td>0.989740</td>\n",
       "      <td>0.000035</td>\n",
       "      <td>0.001995</td>\n",
       "      <td>0.000887</td>\n",
       "      <td>0.000016</td>\n",
       "      <td>0.005407</td>\n",
       "      <td>0.000468</td>\n",
       "      <td>0.001452</td>\n",
       "      <td>5</td>\n",
       "    </tr>\n",
       "    <tr>\n",
       "      <th>...</th>\n",
       "      <td>...</td>\n",
       "      <td>...</td>\n",
       "      <td>...</td>\n",
       "      <td>...</td>\n",
       "      <td>...</td>\n",
       "      <td>...</td>\n",
       "      <td>...</td>\n",
       "      <td>...</td>\n",
       "      <td>...</td>\n",
       "    </tr>\n",
       "    <tr>\n",
       "      <th>12950</th>\n",
       "      <td>0.833071</td>\n",
       "      <td>0.003057</td>\n",
       "      <td>0.014412</td>\n",
       "      <td>0.003555</td>\n",
       "      <td>0.000654</td>\n",
       "      <td>0.034868</td>\n",
       "      <td>0.003584</td>\n",
       "      <td>0.106798</td>\n",
       "      <td>12951</td>\n",
       "    </tr>\n",
       "    <tr>\n",
       "      <th>12951</th>\n",
       "      <td>0.946363</td>\n",
       "      <td>0.000961</td>\n",
       "      <td>0.002724</td>\n",
       "      <td>0.002242</td>\n",
       "      <td>0.013856</td>\n",
       "      <td>0.023608</td>\n",
       "      <td>0.002090</td>\n",
       "      <td>0.008157</td>\n",
       "      <td>12952</td>\n",
       "    </tr>\n",
       "    <tr>\n",
       "      <th>12952</th>\n",
       "      <td>0.000735</td>\n",
       "      <td>0.000256</td>\n",
       "      <td>0.001295</td>\n",
       "      <td>0.000469</td>\n",
       "      <td>0.000031</td>\n",
       "      <td>0.973190</td>\n",
       "      <td>0.017754</td>\n",
       "      <td>0.006271</td>\n",
       "      <td>12953</td>\n",
       "    </tr>\n",
       "    <tr>\n",
       "      <th>12953</th>\n",
       "      <td>0.001971</td>\n",
       "      <td>0.000021</td>\n",
       "      <td>0.000765</td>\n",
       "      <td>0.000369</td>\n",
       "      <td>0.000025</td>\n",
       "      <td>0.994096</td>\n",
       "      <td>0.000372</td>\n",
       "      <td>0.002380</td>\n",
       "      <td>12954</td>\n",
       "    </tr>\n",
       "    <tr>\n",
       "      <th>12954</th>\n",
       "      <td>0.000976</td>\n",
       "      <td>0.000124</td>\n",
       "      <td>0.001791</td>\n",
       "      <td>0.000543</td>\n",
       "      <td>0.000060</td>\n",
       "      <td>0.989292</td>\n",
       "      <td>0.001043</td>\n",
       "      <td>0.006171</td>\n",
       "      <td>12955</td>\n",
       "    </tr>\n",
       "  </tbody>\n",
       "</table>\n",
       "<p>12955 rows × 9 columns</p>\n",
       "</div>"
      ],
      "text/plain": [
       "          prob0     prob1     prob2     prob3     prob4     prob5     prob6  \\\n",
       "0      0.012991  0.002973  0.116246  0.112650  0.000771  0.018385  0.008723   \n",
       "1      0.875510  0.000939  0.005767  0.006461  0.000534  0.053984  0.018161   \n",
       "2      0.998085  0.000038  0.000218  0.000072  0.000013  0.000740  0.000151   \n",
       "3      0.045739  0.001098  0.004962  0.198713  0.001311  0.132568  0.026041   \n",
       "4      0.989740  0.000035  0.001995  0.000887  0.000016  0.005407  0.000468   \n",
       "...         ...       ...       ...       ...       ...       ...       ...   \n",
       "12950  0.833071  0.003057  0.014412  0.003555  0.000654  0.034868  0.003584   \n",
       "12951  0.946363  0.000961  0.002724  0.002242  0.013856  0.023608  0.002090   \n",
       "12952  0.000735  0.000256  0.001295  0.000469  0.000031  0.973190  0.017754   \n",
       "12953  0.001971  0.000021  0.000765  0.000369  0.000025  0.994096  0.000372   \n",
       "12954  0.000976  0.000124  0.001791  0.000543  0.000060  0.989292  0.001043   \n",
       "\n",
       "          prob7  file_id  \n",
       "0      0.727260        1  \n",
       "1      0.038644        2  \n",
       "2      0.000684        3  \n",
       "3      0.589569        4  \n",
       "4      0.001452        5  \n",
       "...         ...      ...  \n",
       "12950  0.106798    12951  \n",
       "12951  0.008157    12952  \n",
       "12952  0.006271    12953  \n",
       "12953  0.002380    12954  \n",
       "12954  0.006171    12955  \n",
       "\n",
       "[12955 rows x 9 columns]"
      ]
     },
     "execution_count": 7,
     "metadata": {},
     "output_type": "execute_result"
    }
   ],
   "source": [
    "result = pd.DataFrame(result,columns=['prob0', 'prob1', 'prob2', 'prob3', 'prob4', 'prob5', 'prob6', 'prob7'])\r\n",
    "result['file_id'] = df_test['file_id'].values\r\n",
    "result"
   ]
  },
  {
   "cell_type": "code",
   "execution_count": 9,
   "metadata": {
    "collapsed": false
   },
   "outputs": [],
   "source": [
    "columns =['file_id','prob0', 'prob1', 'prob2', 'prob3', 'prob4', 'prob5', 'prob6', 'prob7']\r\n",
    "result.to_csv('./baseline_lgb_2000.csv',index=False,columns=columns)"
   ]
  },
  {
   "cell_type": "code",
   "execution_count": null,
   "metadata": {
    "collapsed": false
   },
   "outputs": [],
   "source": []
  },
  {
   "cell_type": "code",
   "execution_count": null,
   "metadata": {
    "collapsed": false
   },
   "outputs": [],
   "source": []
  },
  {
   "cell_type": "code",
   "execution_count": null,
   "metadata": {
    "collapsed": false
   },
   "outputs": [],
   "source": []
  }
 ],
 "metadata": {
  "kernelspec": {
   "display_name": "PaddlePaddle 2.1.0 (Python 3.5)",
   "language": "python",
   "name": "py35-paddle1.2.0"
  },
  "language_info": {
   "codemirror_mode": {
    "name": "ipython",
    "version": 3
   },
   "file_extension": ".py",
   "mimetype": "text/x-python",
   "name": "python",
   "nbconvert_exporter": "python",
   "pygments_lexer": "ipython3",
   "version": "3.7.4"
  }
 },
 "nbformat": 4,
 "nbformat_minor": 1
}
