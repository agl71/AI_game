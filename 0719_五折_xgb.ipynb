{
 "cells": [
  {
   "cell_type": "markdown",
   "metadata": {
    "collapsed": false
   },
   "source": [
    "请点击[此处](https://ai.baidu.com/docs#/AIStudio_Project_Notebook/a38e5576)查看本环境基本用法.  <br>\n",
    "Please click [here ](https://ai.baidu.com/docs#/AIStudio_Project_Notebook/a38e5576) for more detailed instructions. "
   ]
  },
  {
   "cell_type": "code",
   "execution_count": 85,
   "metadata": {
    "collapsed": false
   },
   "outputs": [],
   "source": [
    "# ## baseline3版本，不参与建模的特征 ['os']\r\n",
    "# ##添加特征dev_area，version_osv 但分数没有变化,去掉dev_height和dev_width后，涨了一点\r\n",
    "# ## Score = 88.3027\r\n",
    "#加入祖传参数，n_estimators=3000棵树后 score=88.4473\r\n",
    "#lgb五折交叉验证， socre=88.2367\r\n",
    "#xgb五折交叉验证， socre=\r\n",
    "import pandas as pd\r\n",
    "import warnings\r\n",
    "warnings.filterwarnings('ignore')"
   ]
  },
  {
   "cell_type": "code",
   "execution_count": 86,
   "metadata": {
    "collapsed": false
   },
   "outputs": [],
   "source": [
    "# 数据加载\r\n",
    "train = pd.read_csv('/home/aistudio/data/data97586/train.csv')\r\n",
    "test = pd.read_csv('/home/aistudio/data/data97586/test1.csv')\r\n"
   ]
  },
  {
   "cell_type": "code",
   "execution_count": 87,
   "metadata": {
    "collapsed": false
   },
   "outputs": [
    {
     "data": {
      "text/plain": [
       "lan    183280\n",
       "osv      6561\n",
       "dtype: int64"
      ]
     },
     "execution_count": 87,
     "metadata": {},
     "output_type": "execute_result"
    }
   ],
   "source": [
    "# 字符串类型 需要转换为数值（labelencoder）\r\n",
    "object_cols = train.select_dtypes(include='object').columns\r\n",
    "# 缺失值个数\r\n",
    "temp = train.isnull().sum()\r\n",
    "# 有缺失值的字段： lan, osv\r\n",
    "temp[temp>0]\r\n"
   ]
  },
  {
   "cell_type": "code",
   "execution_count": 88,
   "metadata": {
    "collapsed": false
   },
   "outputs": [
    {
     "name": "stdout",
     "output_type": "stream",
     "text": [
      "['Unnamed: 0', 'android_id', 'apptype', 'carrier', 'dev_height', 'dev_ppi', 'dev_width', 'lan', 'media_id', 'ntt', 'os', 'osv', 'package', 'sid', 'timestamp', 'version', 'fea_hash', 'location', 'fea1_hash', 'cus_type']\n"
     ]
    }
   ],
   "source": [
    "# ['os', 'osv', 'lan', 'sid’]\r\n",
    "features = train.columns.tolist()\r\n",
    "features.remove('label')\r\n",
    "print(features)\r\n"
   ]
  },
  {
   "cell_type": "code",
   "execution_count": 89,
   "metadata": {
    "collapsed": false
   },
   "outputs": [
    {
     "name": "stdout",
     "output_type": "stream",
     "text": [
      "Unnamed: 0 500000\n",
      "android_id 362258\n",
      "apptype 89\n",
      "carrier 5\n",
      "dev_height 798\n",
      "dev_ppi 92\n",
      "dev_width 346\n",
      "lan 21\n",
      "media_id 284\n",
      "ntt 8\n",
      "os 2\n",
      "osv 154\n",
      "package 1950\n",
      "sid 500000\n",
      "timestamp 500000\n",
      "version 22\n",
      "fea_hash 402980\n",
      "location 332\n",
      "fea1_hash 4959\n",
      "cus_type 58\n"
     ]
    }
   ],
   "source": [
    "for feature in features:\r\n",
    "    print(feature, train[feature].nunique())"
   ]
  },
  {
   "cell_type": "code",
   "execution_count": 90,
   "metadata": {
    "collapsed": false
   },
   "outputs": [
    {
     "data": {
      "text/plain": [
       "10    391669\n",
       "9      99347\n",
       "8       8977\n",
       "7          6\n",
       "5          1\n",
       "Name: fea1_hash, dtype: int64"
      ]
     },
     "execution_count": 90,
     "metadata": {},
     "output_type": "execute_result"
    }
   ],
   "source": [
    "# fea_hash是否要做特征变换\r\n",
    "#train['fea_hash'].value_counts()\r\n",
    "#train['fea_hash'].describe()\r\n",
    "train['fea_hash'].map(lambda x: len(str(x))).value_counts()\r\n",
    "#train['fea1_hash'].value_counts()\r\n",
    "train['fea1_hash'].map(lambda x: len(str(x))).value_counts()"
   ]
  },
  {
   "cell_type": "code",
   "execution_count": 91,
   "metadata": {
    "collapsed": false
   },
   "outputs": [],
   "source": [
    "# 对osv进行数据清洗\r\n",
    "def osv_trans(x):\r\n",
    "    x = str(x).replace('Android_', '').replace('Android ', '').replace('W', '')\r\n",
    "    if str(x).find('.')>0:\r\n",
    "        temp_index1 = x.find('.')\r\n",
    "        if x.find(' ')>0:\r\n",
    "            temp_index2 = x.find(' ')\r\n",
    "        else:\r\n",
    "            temp_index2 = len(x)\r\n",
    "\r\n",
    "        if x.find('-')>0:\r\n",
    "            temp_index2 = x.find('-')\r\n",
    "            \r\n",
    "        result = x[0:temp_index1] + '.' + x[temp_index1+1:temp_index2].replace('.', '')\r\n",
    "        try:\r\n",
    "            return float(result)\r\n",
    "        except:\r\n",
    "            print(x+'#########')\r\n",
    "            return 0\r\n",
    "    try:\r\n",
    "        return float(x)\r\n",
    "    except:\r\n",
    "        print(x+'#########')\r\n",
    "        return 0\r\n"
   ]
  },
  {
   "cell_type": "code",
   "execution_count": 92,
   "metadata": {
    "collapsed": false
   },
   "outputs": [
    {
     "name": "stdout",
     "output_type": "stream",
     "text": [
      "f073b_changxiang_v01_b1b8_20180915#########\n",
      "%E6%B1%9F%E7%81%B5OS+5.0#########\n",
      "GIONEE_YNGA#########\n"
     ]
    }
   ],
   "source": [
    "# 采用众数，进行缺失值的填充\r\n",
    "train['osv'].fillna('8.1.0', inplace=True)\r\n",
    "# 数据清洗\r\n",
    "train['osv'] = train['osv'].apply(osv_trans)\r\n",
    "# 采用众数，进行缺失值的填充\r\n",
    "test['osv'].fillna('8.1.0', inplace=True)\r\n",
    "# 数据清洗\r\n",
    "test['osv'] = test['osv'].apply(osv_trans)\r\n"
   ]
  },
  {
   "cell_type": "code",
   "execution_count": 93,
   "metadata": {
    "collapsed": false
   },
   "outputs": [
    {
     "data": {
      "text/plain": [
       "1.0     73046\n",
       "6.0      9094\n",
       "8.0      6136\n",
       "2.0      3391\n",
       "3.0      2430\n",
       "4.0       165\n",
       "7.0        60\n",
       "9.0        46\n",
       "11.0       28\n",
       "15.0       26\n",
       "5.0        11\n",
       "18.0        6\n",
       "13.0        5\n",
       "17.0        2\n",
       "10.0        2\n",
       "12.0        1\n",
       "16.0        1\n",
       "Name: lan, dtype: int64"
      ]
     },
     "execution_count": 93,
     "metadata": {},
     "output_type": "execute_result"
    }
   ],
   "source": [
    "#train['os'].value_counts()\r\n",
    "train['lan'].value_counts()\r\n",
    "#lan_map = {'zh-CN': 1, }\r\n",
    "train['lan'].value_counts().index\r\n",
    "lan_map = {'zh-CN': 1, 'zh_CN':2, 'Zh-CN': 3, 'zh-cn': 4, 'zh_CN_#Hans':5, \r\n",
    "           'zh': 6, 'ZH': 7, 'cn':8, 'CN':9, 'zh-HK': 10, 'tw': 11, \r\n",
    "           'TW': 12,'zh-TW': 13,'zh-MO':14, 'en':15, 'en-GB': 16, \r\n",
    "           'en-US': 17, 'ko': 18, 'ja': 19, 'it': 20, 'mi':21} \r\n",
    "train['lan'] = train['lan'].map(lan_map)\r\n",
    "test['lan'] = test['lan'].map(lan_map)\r\n",
    "test['lan'].value_counts()\r\n"
   ]
  },
  {
   "cell_type": "code",
   "execution_count": 94,
   "metadata": {
    "collapsed": false
   },
   "outputs": [],
   "source": [
    "# 对于有缺失的lan 设置为22\r\n",
    "train['lan'].fillna(22, inplace=True)\r\n",
    "test['lan'].fillna(22, inplace=True)\r\n"
   ]
  },
  {
   "cell_type": "code",
   "execution_count": 95,
   "metadata": {
    "collapsed": false
   },
   "outputs": [
    {
     "data": {
      "text/plain": [
       "['android_id',\n",
       " 'apptype',\n",
       " 'carrier',\n",
       " 'dev_height',\n",
       " 'dev_ppi',\n",
       " 'dev_width',\n",
       " 'lan',\n",
       " 'media_id',\n",
       " 'ntt',\n",
       " 'osv',\n",
       " 'package',\n",
       " 'timestamp',\n",
       " 'version',\n",
       " 'fea_hash',\n",
       " 'location',\n",
       " 'fea1_hash',\n",
       " 'cus_type']"
      ]
     },
     "execution_count": 95,
     "metadata": {},
     "output_type": "execute_result"
    }
   ],
   "source": [
    "remove_list = ['Unnamed: 0','os',  'sid']\r\n",
    "col = features\r\n",
    "for i in remove_list:\r\n",
    "    col.remove(i)\r\n",
    "col"
   ]
  },
  {
   "cell_type": "code",
   "execution_count": 96,
   "metadata": {
    "collapsed": false
   },
   "outputs": [],
   "source": [
    "def version_trans(x):\r\n",
    "    if x=='V3':\r\n",
    "        return 3\r\n",
    "    if x=='v1':\r\n",
    "        return 1\r\n",
    "    if x=='P_Final_6':\r\n",
    "        return 6\r\n",
    "    if x=='V6':\r\n",
    "        return 6\r\n",
    "    if x=='GA3':\r\n",
    "        return 3\r\n",
    "    if x=='GA2':\r\n",
    "        return 2\r\n",
    "    if x=='V2':\r\n",
    "        return 2\r\n",
    "    if x=='50':\r\n",
    "        return 5\r\n",
    "    return int(x)\r\n",
    "train['version'] = train['version'].apply(version_trans)\r\n",
    "test['version'] = test['version'].apply(version_trans)\r\n",
    "train['version'] = train['version'].astype('int')\r\n",
    "test['version'] = test['version'].astype('int')\r\n"
   ]
  },
  {
   "cell_type": "code",
   "execution_count": 97,
   "metadata": {
    "collapsed": false
   },
   "outputs": [
    {
     "data": {
      "text/plain": [
       "0        2019-06-07 09:43:20.477148\n",
       "1        2019-06-05 20:53:33.449314\n",
       "2        2019-06-04 10:08:24.732394\n",
       "3        2019-06-05 01:03:10.643892\n",
       "4        2019-06-05 08:16:34.450110\n",
       "                    ...            \n",
       "149995   2019-06-08 09:21:33.629823\n",
       "149996   2019-06-07 07:15:57.431662\n",
       "149997   2019-06-09 08:48:59.661749\n",
       "149998   2019-06-05 06:38:14.527250\n",
       "149999   2019-06-08 07:23:16.149025\n",
       "Name: timestamp, Length: 150000, dtype: datetime64[ns]"
      ]
     },
     "execution_count": 97,
     "metadata": {},
     "output_type": "execute_result"
    }
   ],
   "source": [
    "#train['timestamp'].value_counts()\r\n",
    "#train['timestamp'] = pd.to_datetime(train['timestamp'])\r\n",
    "#train['timestamp']\r\n",
    "from datetime import datetime\r\n",
    "\r\n",
    "# lambda 是一句话函数，匿名函数\r\n",
    "train['timestamp'] = train['timestamp'].apply(lambda x: datetime.fromtimestamp(x/1000))\r\n",
    "#1559892728241.7212\r\n",
    "#1559871800477.1477\r\n",
    "#1625493942.538375\r\n",
    "#import time\r\n",
    "#time.time()\r\n",
    "test['timestamp'] = test['timestamp'].apply(lambda x: datetime.fromtimestamp(x/1000))\r\n",
    "test['timestamp']\r\n"
   ]
  },
  {
   "cell_type": "code",
   "execution_count": 98,
   "metadata": {
    "collapsed": false
   },
   "outputs": [
    {
     "data": {
      "text/html": [
       "<div>\n",
       "<style scoped>\n",
       "    .dataframe tbody tr th:only-of-type {\n",
       "        vertical-align: middle;\n",
       "    }\n",
       "\n",
       "    .dataframe tbody tr th {\n",
       "        vertical-align: top;\n",
       "    }\n",
       "\n",
       "    .dataframe thead th {\n",
       "        text-align: right;\n",
       "    }\n",
       "</style>\n",
       "<table border=\"1\" class=\"dataframe\">\n",
       "  <thead>\n",
       "    <tr style=\"text-align: right;\">\n",
       "      <th></th>\n",
       "      <th>android_id</th>\n",
       "      <th>apptype</th>\n",
       "      <th>carrier</th>\n",
       "      <th>dev_height</th>\n",
       "      <th>dev_ppi</th>\n",
       "      <th>dev_width</th>\n",
       "      <th>lan</th>\n",
       "      <th>media_id</th>\n",
       "      <th>ntt</th>\n",
       "      <th>osv</th>\n",
       "      <th>package</th>\n",
       "      <th>timestamp</th>\n",
       "      <th>version</th>\n",
       "      <th>fea_hash</th>\n",
       "      <th>location</th>\n",
       "      <th>fea1_hash</th>\n",
       "      <th>cus_type</th>\n",
       "      <th>fea_hash_len</th>\n",
       "      <th>fea1_hash_len</th>\n",
       "    </tr>\n",
       "  </thead>\n",
       "  <tbody>\n",
       "    <tr>\n",
       "      <th>0</th>\n",
       "      <td>316361</td>\n",
       "      <td>1199</td>\n",
       "      <td>46000.0</td>\n",
       "      <td>0.0</td>\n",
       "      <td>0.0</td>\n",
       "      <td>0.0</td>\n",
       "      <td>22.0</td>\n",
       "      <td>104</td>\n",
       "      <td>6.0</td>\n",
       "      <td>9.00</td>\n",
       "      <td>18</td>\n",
       "      <td>2019-06-07 15:32:08.241721</td>\n",
       "      <td>8</td>\n",
       "      <td>2135019403</td>\n",
       "      <td>0</td>\n",
       "      <td>2329670524</td>\n",
       "      <td>601</td>\n",
       "      <td>10</td>\n",
       "      <td>10</td>\n",
       "    </tr>\n",
       "    <tr>\n",
       "      <th>1</th>\n",
       "      <td>135939</td>\n",
       "      <td>893</td>\n",
       "      <td>0.0</td>\n",
       "      <td>0.0</td>\n",
       "      <td>0.0</td>\n",
       "      <td>0.0</td>\n",
       "      <td>22.0</td>\n",
       "      <td>19</td>\n",
       "      <td>6.0</td>\n",
       "      <td>8.10</td>\n",
       "      <td>0</td>\n",
       "      <td>2019-06-08 19:40:20.922229</td>\n",
       "      <td>4</td>\n",
       "      <td>2782306428</td>\n",
       "      <td>1</td>\n",
       "      <td>2864801071</td>\n",
       "      <td>1000</td>\n",
       "      <td>10</td>\n",
       "      <td>10</td>\n",
       "    </tr>\n",
       "    <tr>\n",
       "      <th>2</th>\n",
       "      <td>399254</td>\n",
       "      <td>821</td>\n",
       "      <td>0.0</td>\n",
       "      <td>760.0</td>\n",
       "      <td>0.0</td>\n",
       "      <td>360.0</td>\n",
       "      <td>22.0</td>\n",
       "      <td>559</td>\n",
       "      <td>0.0</td>\n",
       "      <td>8.10</td>\n",
       "      <td>0</td>\n",
       "      <td>2019-06-06 23:58:17.549109</td>\n",
       "      <td>0</td>\n",
       "      <td>1392806005</td>\n",
       "      <td>2</td>\n",
       "      <td>628911675</td>\n",
       "      <td>696</td>\n",
       "      <td>10</td>\n",
       "      <td>9</td>\n",
       "    </tr>\n",
       "    <tr>\n",
       "      <th>3</th>\n",
       "      <td>68983</td>\n",
       "      <td>1004</td>\n",
       "      <td>46000.0</td>\n",
       "      <td>2214.0</td>\n",
       "      <td>0.0</td>\n",
       "      <td>1080.0</td>\n",
       "      <td>22.0</td>\n",
       "      <td>129</td>\n",
       "      <td>2.0</td>\n",
       "      <td>8.10</td>\n",
       "      <td>0</td>\n",
       "      <td>2019-06-09 08:59:37.719685</td>\n",
       "      <td>0</td>\n",
       "      <td>3562553457</td>\n",
       "      <td>3</td>\n",
       "      <td>1283809327</td>\n",
       "      <td>753</td>\n",
       "      <td>10</td>\n",
       "      <td>10</td>\n",
       "    </tr>\n",
       "    <tr>\n",
       "      <th>4</th>\n",
       "      <td>288999</td>\n",
       "      <td>1076</td>\n",
       "      <td>46000.0</td>\n",
       "      <td>2280.0</td>\n",
       "      <td>0.0</td>\n",
       "      <td>1080.0</td>\n",
       "      <td>1.0</td>\n",
       "      <td>64</td>\n",
       "      <td>2.0</td>\n",
       "      <td>8.00</td>\n",
       "      <td>0</td>\n",
       "      <td>2019-06-07 08:28:21.478553</td>\n",
       "      <td>5</td>\n",
       "      <td>2364522023</td>\n",
       "      <td>4</td>\n",
       "      <td>1510695983</td>\n",
       "      <td>582</td>\n",
       "      <td>10</td>\n",
       "      <td>10</td>\n",
       "    </tr>\n",
       "    <tr>\n",
       "      <th>...</th>\n",
       "      <td>...</td>\n",
       "      <td>...</td>\n",
       "      <td>...</td>\n",
       "      <td>...</td>\n",
       "      <td>...</td>\n",
       "      <td>...</td>\n",
       "      <td>...</td>\n",
       "      <td>...</td>\n",
       "      <td>...</td>\n",
       "      <td>...</td>\n",
       "      <td>...</td>\n",
       "      <td>...</td>\n",
       "      <td>...</td>\n",
       "      <td>...</td>\n",
       "      <td>...</td>\n",
       "      <td>...</td>\n",
       "      <td>...</td>\n",
       "      <td>...</td>\n",
       "      <td>...</td>\n",
       "    </tr>\n",
       "    <tr>\n",
       "      <th>499995</th>\n",
       "      <td>392477</td>\n",
       "      <td>1028</td>\n",
       "      <td>46000.0</td>\n",
       "      <td>1920.0</td>\n",
       "      <td>3.0</td>\n",
       "      <td>1080.0</td>\n",
       "      <td>1.0</td>\n",
       "      <td>144</td>\n",
       "      <td>6.0</td>\n",
       "      <td>7.12</td>\n",
       "      <td>25</td>\n",
       "      <td>2019-06-06 23:14:18.267242</td>\n",
       "      <td>7</td>\n",
       "      <td>861755946</td>\n",
       "      <td>79</td>\n",
       "      <td>140647032</td>\n",
       "      <td>373</td>\n",
       "      <td>9</td>\n",
       "      <td>9</td>\n",
       "    </tr>\n",
       "    <tr>\n",
       "      <th>499996</th>\n",
       "      <td>346134</td>\n",
       "      <td>1001</td>\n",
       "      <td>0.0</td>\n",
       "      <td>1424.0</td>\n",
       "      <td>0.0</td>\n",
       "      <td>720.0</td>\n",
       "      <td>22.0</td>\n",
       "      <td>29</td>\n",
       "      <td>2.0</td>\n",
       "      <td>8.10</td>\n",
       "      <td>0</td>\n",
       "      <td>2019-06-06 17:40:54.045280</td>\n",
       "      <td>3</td>\n",
       "      <td>1714444511</td>\n",
       "      <td>23</td>\n",
       "      <td>2745131047</td>\n",
       "      <td>525</td>\n",
       "      <td>10</td>\n",
       "      <td>10</td>\n",
       "    </tr>\n",
       "    <tr>\n",
       "      <th>499997</th>\n",
       "      <td>499635</td>\n",
       "      <td>761</td>\n",
       "      <td>46000.0</td>\n",
       "      <td>1280.0</td>\n",
       "      <td>0.0</td>\n",
       "      <td>720.0</td>\n",
       "      <td>22.0</td>\n",
       "      <td>54</td>\n",
       "      <td>6.0</td>\n",
       "      <td>6.01</td>\n",
       "      <td>9</td>\n",
       "      <td>2019-06-05 03:14:57.290064</td>\n",
       "      <td>0</td>\n",
       "      <td>3843262581</td>\n",
       "      <td>25</td>\n",
       "      <td>1326115882</td>\n",
       "      <td>810</td>\n",
       "      <td>10</td>\n",
       "      <td>10</td>\n",
       "    </tr>\n",
       "    <tr>\n",
       "      <th>499998</th>\n",
       "      <td>239786</td>\n",
       "      <td>917</td>\n",
       "      <td>46001.0</td>\n",
       "      <td>960.0</td>\n",
       "      <td>0.0</td>\n",
       "      <td>540.0</td>\n",
       "      <td>2.0</td>\n",
       "      <td>109</td>\n",
       "      <td>2.0</td>\n",
       "      <td>5.11</td>\n",
       "      <td>0</td>\n",
       "      <td>2019-06-07 00:59:27.651521</td>\n",
       "      <td>0</td>\n",
       "      <td>1984296118</td>\n",
       "      <td>225</td>\n",
       "      <td>1446741112</td>\n",
       "      <td>772</td>\n",
       "      <td>10</td>\n",
       "      <td>10</td>\n",
       "    </tr>\n",
       "    <tr>\n",
       "      <th>499999</th>\n",
       "      <td>270531</td>\n",
       "      <td>929</td>\n",
       "      <td>46000.0</td>\n",
       "      <td>2040.0</td>\n",
       "      <td>3.0</td>\n",
       "      <td>1080.0</td>\n",
       "      <td>1.0</td>\n",
       "      <td>59</td>\n",
       "      <td>2.0</td>\n",
       "      <td>8.10</td>\n",
       "      <td>78</td>\n",
       "      <td>2019-06-07 23:32:46.472229</td>\n",
       "      <td>5</td>\n",
       "      <td>1697301943</td>\n",
       "      <td>49</td>\n",
       "      <td>1915763579</td>\n",
       "      <td>1076</td>\n",
       "      <td>10</td>\n",
       "      <td>10</td>\n",
       "    </tr>\n",
       "  </tbody>\n",
       "</table>\n",
       "<p>500000 rows × 19 columns</p>\n",
       "</div>"
      ],
      "text/plain": [
       "        android_id  apptype  carrier  dev_height  dev_ppi  dev_width   lan  \\\n",
       "0           316361     1199  46000.0         0.0      0.0        0.0  22.0   \n",
       "1           135939      893      0.0         0.0      0.0        0.0  22.0   \n",
       "2           399254      821      0.0       760.0      0.0      360.0  22.0   \n",
       "3            68983     1004  46000.0      2214.0      0.0     1080.0  22.0   \n",
       "4           288999     1076  46000.0      2280.0      0.0     1080.0   1.0   \n",
       "...            ...      ...      ...         ...      ...        ...   ...   \n",
       "499995      392477     1028  46000.0      1920.0      3.0     1080.0   1.0   \n",
       "499996      346134     1001      0.0      1424.0      0.0      720.0  22.0   \n",
       "499997      499635      761  46000.0      1280.0      0.0      720.0  22.0   \n",
       "499998      239786      917  46001.0       960.0      0.0      540.0   2.0   \n",
       "499999      270531      929  46000.0      2040.0      3.0     1080.0   1.0   \n",
       "\n",
       "        media_id  ntt   osv  package                  timestamp  version  \\\n",
       "0            104  6.0  9.00       18 2019-06-07 15:32:08.241721        8   \n",
       "1             19  6.0  8.10        0 2019-06-08 19:40:20.922229        4   \n",
       "2            559  0.0  8.10        0 2019-06-06 23:58:17.549109        0   \n",
       "3            129  2.0  8.10        0 2019-06-09 08:59:37.719685        0   \n",
       "4             64  2.0  8.00        0 2019-06-07 08:28:21.478553        5   \n",
       "...          ...  ...   ...      ...                        ...      ...   \n",
       "499995       144  6.0  7.12       25 2019-06-06 23:14:18.267242        7   \n",
       "499996        29  2.0  8.10        0 2019-06-06 17:40:54.045280        3   \n",
       "499997        54  6.0  6.01        9 2019-06-05 03:14:57.290064        0   \n",
       "499998       109  2.0  5.11        0 2019-06-07 00:59:27.651521        0   \n",
       "499999        59  2.0  8.10       78 2019-06-07 23:32:46.472229        5   \n",
       "\n",
       "          fea_hash  location   fea1_hash  cus_type  fea_hash_len  \\\n",
       "0       2135019403         0  2329670524       601            10   \n",
       "1       2782306428         1  2864801071      1000            10   \n",
       "2       1392806005         2   628911675       696            10   \n",
       "3       3562553457         3  1283809327       753            10   \n",
       "4       2364522023         4  1510695983       582            10   \n",
       "...            ...       ...         ...       ...           ...   \n",
       "499995   861755946        79   140647032       373             9   \n",
       "499996  1714444511        23  2745131047       525            10   \n",
       "499997  3843262581        25  1326115882       810            10   \n",
       "499998  1984296118       225  1446741112       772            10   \n",
       "499999  1697301943        49  1915763579      1076            10   \n",
       "\n",
       "        fea1_hash_len  \n",
       "0                  10  \n",
       "1                  10  \n",
       "2                   9  \n",
       "3                  10  \n",
       "4                  10  \n",
       "...               ...  \n",
       "499995              9  \n",
       "499996             10  \n",
       "499997             10  \n",
       "499998             10  \n",
       "499999             10  \n",
       "\n",
       "[500000 rows x 19 columns]"
      ]
     },
     "execution_count": 98,
     "metadata": {},
     "output_type": "execute_result"
    }
   ],
   "source": [
    "# 特征筛选\r\n",
    "features = train[col]\r\n",
    "# 构造fea_hash_len特征\r\n",
    "features['fea_hash_len'] = features['fea_hash'].map(lambda x: len(str(x)))\r\n",
    "features['fea1_hash_len'] = features['fea1_hash'].map(lambda x: len(str(x)))\r\n",
    "# Thinking：为什么将很大的，很长的fea_hash化为0？\r\n",
    "# 如果fea_hash很长，都归为0，否则为自己的本身\r\n",
    "features['fea_hash'] = features['fea_hash'].map(lambda x: 0 if len(str(x))>16 else int(x))\r\n",
    "features['fea1_hash'] = features['fea1_hash'].map(lambda x: 0 if len(str(x))>16 else int(x))\r\n",
    "features\r\n"
   ]
  },
  {
   "cell_type": "code",
   "execution_count": 99,
   "metadata": {
    "collapsed": false
   },
   "outputs": [
    {
     "data": {
      "text/html": [
       "<div>\n",
       "<style scoped>\n",
       "    .dataframe tbody tr th:only-of-type {\n",
       "        vertical-align: middle;\n",
       "    }\n",
       "\n",
       "    .dataframe tbody tr th {\n",
       "        vertical-align: top;\n",
       "    }\n",
       "\n",
       "    .dataframe thead th {\n",
       "        text-align: right;\n",
       "    }\n",
       "</style>\n",
       "<table border=\"1\" class=\"dataframe\">\n",
       "  <thead>\n",
       "    <tr style=\"text-align: right;\">\n",
       "      <th></th>\n",
       "      <th>android_id</th>\n",
       "      <th>apptype</th>\n",
       "      <th>carrier</th>\n",
       "      <th>dev_height</th>\n",
       "      <th>dev_ppi</th>\n",
       "      <th>dev_width</th>\n",
       "      <th>lan</th>\n",
       "      <th>media_id</th>\n",
       "      <th>ntt</th>\n",
       "      <th>osv</th>\n",
       "      <th>package</th>\n",
       "      <th>timestamp</th>\n",
       "      <th>version</th>\n",
       "      <th>fea_hash</th>\n",
       "      <th>location</th>\n",
       "      <th>fea1_hash</th>\n",
       "      <th>cus_type</th>\n",
       "      <th>fea_hash_len</th>\n",
       "      <th>fea1_hash_len</th>\n",
       "    </tr>\n",
       "  </thead>\n",
       "  <tbody>\n",
       "    <tr>\n",
       "      <th>0</th>\n",
       "      <td>317625</td>\n",
       "      <td>1181</td>\n",
       "      <td>46000.0</td>\n",
       "      <td>2196.0</td>\n",
       "      <td>2.0</td>\n",
       "      <td>1080.0</td>\n",
       "      <td>9.0</td>\n",
       "      <td>639</td>\n",
       "      <td>2.0</td>\n",
       "      <td>8.10</td>\n",
       "      <td>188</td>\n",
       "      <td>2019-06-07 09:43:20.477148</td>\n",
       "      <td>7</td>\n",
       "      <td>1672223856</td>\n",
       "      <td>57</td>\n",
       "      <td>3872258917</td>\n",
       "      <td>658</td>\n",
       "      <td>10</td>\n",
       "      <td>10</td>\n",
       "    </tr>\n",
       "    <tr>\n",
       "      <th>1</th>\n",
       "      <td>435108</td>\n",
       "      <td>944</td>\n",
       "      <td>46003.0</td>\n",
       "      <td>2280.0</td>\n",
       "      <td>3.0</td>\n",
       "      <td>1080.0</td>\n",
       "      <td>1.0</td>\n",
       "      <td>704</td>\n",
       "      <td>6.0</td>\n",
       "      <td>8.10</td>\n",
       "      <td>221</td>\n",
       "      <td>2019-06-05 20:53:33.449314</td>\n",
       "      <td>3</td>\n",
       "      <td>3767901757</td>\n",
       "      <td>23</td>\n",
       "      <td>129322164</td>\n",
       "      <td>943</td>\n",
       "      <td>10</td>\n",
       "      <td>9</td>\n",
       "    </tr>\n",
       "    <tr>\n",
       "      <th>2</th>\n",
       "      <td>0</td>\n",
       "      <td>1106</td>\n",
       "      <td>46000.0</td>\n",
       "      <td>0.0</td>\n",
       "      <td>0.0</td>\n",
       "      <td>0.0</td>\n",
       "      <td>22.0</td>\n",
       "      <td>39</td>\n",
       "      <td>2.0</td>\n",
       "      <td>5.10</td>\n",
       "      <td>1562</td>\n",
       "      <td>2019-06-04 10:08:24.732394</td>\n",
       "      <td>0</td>\n",
       "      <td>454638703</td>\n",
       "      <td>30</td>\n",
       "      <td>4226678391</td>\n",
       "      <td>411</td>\n",
       "      <td>9</td>\n",
       "      <td>10</td>\n",
       "    </tr>\n",
       "    <tr>\n",
       "      <th>3</th>\n",
       "      <td>451504</td>\n",
       "      <td>761</td>\n",
       "      <td>46000.0</td>\n",
       "      <td>1344.0</td>\n",
       "      <td>0.0</td>\n",
       "      <td>720.0</td>\n",
       "      <td>22.0</td>\n",
       "      <td>54</td>\n",
       "      <td>2.0</td>\n",
       "      <td>7.11</td>\n",
       "      <td>9</td>\n",
       "      <td>2019-06-05 01:03:10.643892</td>\n",
       "      <td>0</td>\n",
       "      <td>1507622951</td>\n",
       "      <td>65</td>\n",
       "      <td>3355419572</td>\n",
       "      <td>848</td>\n",
       "      <td>10</td>\n",
       "      <td>10</td>\n",
       "    </tr>\n",
       "    <tr>\n",
       "      <th>4</th>\n",
       "      <td>0</td>\n",
       "      <td>1001</td>\n",
       "      <td>46000.0</td>\n",
       "      <td>665.0</td>\n",
       "      <td>0.0</td>\n",
       "      <td>320.0</td>\n",
       "      <td>1.0</td>\n",
       "      <td>29</td>\n",
       "      <td>5.0</td>\n",
       "      <td>8.10</td>\n",
       "      <td>4</td>\n",
       "      <td>2019-06-05 08:16:34.450110</td>\n",
       "      <td>0</td>\n",
       "      <td>4116351093</td>\n",
       "      <td>148</td>\n",
       "      <td>2644467751</td>\n",
       "      <td>411</td>\n",
       "      <td>10</td>\n",
       "      <td>10</td>\n",
       "    </tr>\n",
       "    <tr>\n",
       "      <th>...</th>\n",
       "      <td>...</td>\n",
       "      <td>...</td>\n",
       "      <td>...</td>\n",
       "      <td>...</td>\n",
       "      <td>...</td>\n",
       "      <td>...</td>\n",
       "      <td>...</td>\n",
       "      <td>...</td>\n",
       "      <td>...</td>\n",
       "      <td>...</td>\n",
       "      <td>...</td>\n",
       "      <td>...</td>\n",
       "      <td>...</td>\n",
       "      <td>...</td>\n",
       "      <td>...</td>\n",
       "      <td>...</td>\n",
       "      <td>...</td>\n",
       "      <td>...</td>\n",
       "      <td>...</td>\n",
       "    </tr>\n",
       "    <tr>\n",
       "      <th>149995</th>\n",
       "      <td>0</td>\n",
       "      <td>1001</td>\n",
       "      <td>46000.0</td>\n",
       "      <td>760.0</td>\n",
       "      <td>0.0</td>\n",
       "      <td>360.0</td>\n",
       "      <td>1.0</td>\n",
       "      <td>29</td>\n",
       "      <td>2.0</td>\n",
       "      <td>8.10</td>\n",
       "      <td>4</td>\n",
       "      <td>2019-06-08 09:21:33.629823</td>\n",
       "      <td>0</td>\n",
       "      <td>3162887451</td>\n",
       "      <td>126</td>\n",
       "      <td>2711576615</td>\n",
       "      <td>411</td>\n",
       "      <td>10</td>\n",
       "      <td>10</td>\n",
       "    </tr>\n",
       "    <tr>\n",
       "      <th>149996</th>\n",
       "      <td>0</td>\n",
       "      <td>1001</td>\n",
       "      <td>46000.0</td>\n",
       "      <td>780.0</td>\n",
       "      <td>0.0</td>\n",
       "      <td>360.0</td>\n",
       "      <td>1.0</td>\n",
       "      <td>29</td>\n",
       "      <td>2.0</td>\n",
       "      <td>9.00</td>\n",
       "      <td>4</td>\n",
       "      <td>2019-06-07 07:15:57.431662</td>\n",
       "      <td>0</td>\n",
       "      <td>97238959</td>\n",
       "      <td>322</td>\n",
       "      <td>2678022183</td>\n",
       "      <td>411</td>\n",
       "      <td>8</td>\n",
       "      <td>10</td>\n",
       "    </tr>\n",
       "    <tr>\n",
       "      <th>149997</th>\n",
       "      <td>0</td>\n",
       "      <td>1001</td>\n",
       "      <td>46000.0</td>\n",
       "      <td>780.0</td>\n",
       "      <td>0.0</td>\n",
       "      <td>360.0</td>\n",
       "      <td>1.0</td>\n",
       "      <td>29</td>\n",
       "      <td>5.0</td>\n",
       "      <td>8.10</td>\n",
       "      <td>4</td>\n",
       "      <td>2019-06-09 08:48:59.661749</td>\n",
       "      <td>0</td>\n",
       "      <td>1320118495</td>\n",
       "      <td>46</td>\n",
       "      <td>2610913319</td>\n",
       "      <td>411</td>\n",
       "      <td>10</td>\n",
       "      <td>10</td>\n",
       "    </tr>\n",
       "    <tr>\n",
       "      <th>149998</th>\n",
       "      <td>500925</td>\n",
       "      <td>1052</td>\n",
       "      <td>46000.0</td>\n",
       "      <td>854.0</td>\n",
       "      <td>240.0</td>\n",
       "      <td>480.0</td>\n",
       "      <td>1.0</td>\n",
       "      <td>249</td>\n",
       "      <td>6.0</td>\n",
       "      <td>4.42</td>\n",
       "      <td>0</td>\n",
       "      <td>2019-06-05 06:38:14.527250</td>\n",
       "      <td>2</td>\n",
       "      <td>1292986591</td>\n",
       "      <td>41</td>\n",
       "      <td>1898209327</td>\n",
       "      <td>430</td>\n",
       "      <td>10</td>\n",
       "      <td>10</td>\n",
       "    </tr>\n",
       "    <tr>\n",
       "      <th>149999</th>\n",
       "      <td>0</td>\n",
       "      <td>1001</td>\n",
       "      <td>46000.0</td>\n",
       "      <td>780.0</td>\n",
       "      <td>0.0</td>\n",
       "      <td>360.0</td>\n",
       "      <td>1.0</td>\n",
       "      <td>29</td>\n",
       "      <td>2.0</td>\n",
       "      <td>9.00</td>\n",
       "      <td>4</td>\n",
       "      <td>2019-06-08 07:23:16.149025</td>\n",
       "      <td>0</td>\n",
       "      <td>259614175</td>\n",
       "      <td>122</td>\n",
       "      <td>2594136103</td>\n",
       "      <td>411</td>\n",
       "      <td>9</td>\n",
       "      <td>10</td>\n",
       "    </tr>\n",
       "  </tbody>\n",
       "</table>\n",
       "<p>150000 rows × 19 columns</p>\n",
       "</div>"
      ],
      "text/plain": [
       "        android_id  apptype  carrier  dev_height  dev_ppi  dev_width   lan  \\\n",
       "0           317625     1181  46000.0      2196.0      2.0     1080.0   9.0   \n",
       "1           435108      944  46003.0      2280.0      3.0     1080.0   1.0   \n",
       "2                0     1106  46000.0         0.0      0.0        0.0  22.0   \n",
       "3           451504      761  46000.0      1344.0      0.0      720.0  22.0   \n",
       "4                0     1001  46000.0       665.0      0.0      320.0   1.0   \n",
       "...            ...      ...      ...         ...      ...        ...   ...   \n",
       "149995           0     1001  46000.0       760.0      0.0      360.0   1.0   \n",
       "149996           0     1001  46000.0       780.0      0.0      360.0   1.0   \n",
       "149997           0     1001  46000.0       780.0      0.0      360.0   1.0   \n",
       "149998      500925     1052  46000.0       854.0    240.0      480.0   1.0   \n",
       "149999           0     1001  46000.0       780.0      0.0      360.0   1.0   \n",
       "\n",
       "        media_id  ntt   osv  package                  timestamp  version  \\\n",
       "0            639  2.0  8.10      188 2019-06-07 09:43:20.477148        7   \n",
       "1            704  6.0  8.10      221 2019-06-05 20:53:33.449314        3   \n",
       "2             39  2.0  5.10     1562 2019-06-04 10:08:24.732394        0   \n",
       "3             54  2.0  7.11        9 2019-06-05 01:03:10.643892        0   \n",
       "4             29  5.0  8.10        4 2019-06-05 08:16:34.450110        0   \n",
       "...          ...  ...   ...      ...                        ...      ...   \n",
       "149995        29  2.0  8.10        4 2019-06-08 09:21:33.629823        0   \n",
       "149996        29  2.0  9.00        4 2019-06-07 07:15:57.431662        0   \n",
       "149997        29  5.0  8.10        4 2019-06-09 08:48:59.661749        0   \n",
       "149998       249  6.0  4.42        0 2019-06-05 06:38:14.527250        2   \n",
       "149999        29  2.0  9.00        4 2019-06-08 07:23:16.149025        0   \n",
       "\n",
       "          fea_hash  location   fea1_hash  cus_type  fea_hash_len  \\\n",
       "0       1672223856        57  3872258917       658            10   \n",
       "1       3767901757        23   129322164       943            10   \n",
       "2        454638703        30  4226678391       411             9   \n",
       "3       1507622951        65  3355419572       848            10   \n",
       "4       4116351093       148  2644467751       411            10   \n",
       "...            ...       ...         ...       ...           ...   \n",
       "149995  3162887451       126  2711576615       411            10   \n",
       "149996    97238959       322  2678022183       411             8   \n",
       "149997  1320118495        46  2610913319       411            10   \n",
       "149998  1292986591        41  1898209327       430            10   \n",
       "149999   259614175       122  2594136103       411             9   \n",
       "\n",
       "        fea1_hash_len  \n",
       "0                  10  \n",
       "1                   9  \n",
       "2                  10  \n",
       "3                  10  \n",
       "4                  10  \n",
       "...               ...  \n",
       "149995             10  \n",
       "149996             10  \n",
       "149997             10  \n",
       "149998             10  \n",
       "149999             10  \n",
       "\n",
       "[150000 rows x 19 columns]"
      ]
     },
     "execution_count": 99,
     "metadata": {},
     "output_type": "execute_result"
    }
   ],
   "source": [
    "test_features = test[col]\r\n",
    "# 构造fea_hash_len特征\r\n",
    "test_features['fea_hash_len'] = test_features['fea_hash'].map(lambda x: len(str(x)))\r\n",
    "test_features['fea1_hash_len'] = test_features['fea1_hash'].map(lambda x: len(str(x)))\r\n",
    "# Thinking：为什么将很大的，很长的fea_hash化为0？\r\n",
    "# 如果fea_hash很长，都归为0，否则为自己的本身\r\n",
    "test_features['fea_hash'] = test_features['fea_hash'].map(lambda x: 0 if len(str(x))>16 else int(x))\r\n",
    "test_features['fea1_hash'] = test_features['fea1_hash'].map(lambda x: 0 if len(str(x))>16 else int(x))\r\n",
    "test_features\r\n"
   ]
  },
  {
   "cell_type": "code",
   "execution_count": 100,
   "metadata": {
    "collapsed": false
   },
   "outputs": [
    {
     "data": {
      "text/plain": [
       "1080.0    209914\n",
       "0.0       107011\n",
       "360.0      76852\n",
       "720.0      63317\n",
       "393.0       6259\n",
       "           ...  \n",
       "1368.0         1\n",
       "1361.0         1\n",
       "1357.0         1\n",
       "1354.0         1\n",
       "686.0          1\n",
       "Name: dev_width, Length: 346, dtype: int64"
      ]
     },
     "execution_count": 100,
     "metadata": {},
     "output_type": "execute_result"
    }
   ],
   "source": [
    "#test['version'].value_counts()\r\n",
    "#features['version'].value_counts()\r\n",
    "features['dev_height'].value_counts()\r\n",
    "features['dev_width'].value_counts()\r\n"
   ]
  },
  {
   "cell_type": "code",
   "execution_count": 101,
   "metadata": {
    "collapsed": false
   },
   "outputs": [],
   "source": [
    "\r\n",
    "# 构造面积特征\r\n",
    "features['dev_area'] = features['dev_height'] * features['dev_width']\r\n",
    "test_features['dev_area'] = test_features['dev_height'] * test_features['dev_width']\r\n",
    "# 构造长宽比特征\r\n",
    "features['height_width'] = features['dev_height'] / features['dev_width']\r\n",
    "test_features['height_width'] = test_features['dev_height'] / test_features['dev_width']\r\n"
   ]
  },
  {
   "cell_type": "code",
   "execution_count": 102,
   "metadata": {
    "collapsed": false
   },
   "outputs": [
    {
     "data": {
      "text/plain": [
       "\"\\nfeatures['area_ppi'] = features['dev_area'].astype('float') / features['dev_ppi'].astype('float')\\ntest_features['area_ppi'] = test_features['dev_area'].astype('float') / test_features['dev_ppi'].astype('float')\\n\""
      ]
     },
     "execution_count": 102,
     "metadata": {},
     "output_type": "execute_result"
    }
   ],
   "source": [
    "#利用 dev_ppi 和 dev_area构造新特征，效果下降,不使用此特征\r\n",
    "#features['dev_ppi'].value_counts()\r\n",
    "'''\r\n",
    "features['area_ppi'] = features['dev_area'].astype('float') / features['dev_ppi'].astype('float')\r\n",
    "test_features['area_ppi'] = test_features['dev_area'].astype('float') / test_features['dev_ppi'].astype('float')\r\n",
    "'''"
   ]
  },
  {
   "cell_type": "code",
   "execution_count": 103,
   "metadata": {
    "collapsed": false
   },
   "outputs": [
    {
     "data": {
      "text/plain": [
       "Index(['android_id', 'apptype', 'carrier', 'dev_height', 'dev_ppi',\n",
       "       'dev_width', 'lan', 'media_id', 'ntt', 'osv', 'package', 'timestamp',\n",
       "       'version', 'fea_hash', 'location', 'fea1_hash', 'cus_type',\n",
       "       'fea_hash_len', 'fea1_hash_len', 'dev_area', 'height_width'],\n",
       "      dtype='object')"
      ]
     },
     "execution_count": 103,
     "metadata": {},
     "output_type": "execute_result"
    }
   ],
   "source": [
    "test_features.columns"
   ]
  },
  {
   "cell_type": "code",
   "execution_count": 104,
   "metadata": {
    "collapsed": false
   },
   "outputs": [],
   "source": [
    "features['version_osv'] = features['osv'] - features['version']\r\n",
    "test_features['version_osv'] = test_features['osv'] - test_features['version']\r\n"
   ]
  },
  {
   "cell_type": "code",
   "execution_count": 105,
   "metadata": {
    "collapsed": false
   },
   "outputs": [],
   "source": [
    "# 对训练集的timestamp提取时间多尺度\r\n",
    "\r\n",
    "# 使用to_datetime进行日期类型转换\r\n",
    "# 创建时间戳索引\r\n",
    "temp = pd.DatetimeIndex(features['timestamp'])\r\n",
    "features['year'] = temp.year\r\n",
    "features['month'] = temp.month\r\n",
    "features['day'] = temp.day\r\n",
    "features['week_day'] = temp.weekday #星期几\r\n",
    "features['hour'] = temp.hour\r\n",
    "features['minute'] = temp.minute\r\n"
   ]
  },
  {
   "cell_type": "code",
   "execution_count": 106,
   "metadata": {
    "collapsed": false
   },
   "outputs": [
    {
     "data": {
      "text/html": [
       "<div>\n",
       "<style scoped>\n",
       "    .dataframe tbody tr th:only-of-type {\n",
       "        vertical-align: middle;\n",
       "    }\n",
       "\n",
       "    .dataframe tbody tr th {\n",
       "        vertical-align: top;\n",
       "    }\n",
       "\n",
       "    .dataframe thead th {\n",
       "        text-align: right;\n",
       "    }\n",
       "</style>\n",
       "<table border=\"1\" class=\"dataframe\">\n",
       "  <thead>\n",
       "    <tr style=\"text-align: right;\">\n",
       "      <th></th>\n",
       "      <th>timestamp</th>\n",
       "      <th>year</th>\n",
       "      <th>month</th>\n",
       "      <th>day</th>\n",
       "      <th>week_day</th>\n",
       "      <th>hour</th>\n",
       "      <th>minute</th>\n",
       "      <th>time_diff</th>\n",
       "    </tr>\n",
       "  </thead>\n",
       "  <tbody>\n",
       "    <tr>\n",
       "      <th>0</th>\n",
       "      <td>2019-06-07 15:32:08.241721</td>\n",
       "      <td>2019</td>\n",
       "      <td>6</td>\n",
       "      <td>7</td>\n",
       "      <td>4</td>\n",
       "      <td>15</td>\n",
       "      <td>32</td>\n",
       "      <td>4.647303</td>\n",
       "    </tr>\n",
       "    <tr>\n",
       "      <th>1</th>\n",
       "      <td>2019-06-08 19:40:20.922229</td>\n",
       "      <td>2019</td>\n",
       "      <td>6</td>\n",
       "      <td>8</td>\n",
       "      <td>5</td>\n",
       "      <td>19</td>\n",
       "      <td>40</td>\n",
       "      <td>5.819664</td>\n",
       "    </tr>\n",
       "    <tr>\n",
       "      <th>2</th>\n",
       "      <td>2019-06-06 23:58:17.549109</td>\n",
       "      <td>2019</td>\n",
       "      <td>6</td>\n",
       "      <td>6</td>\n",
       "      <td>3</td>\n",
       "      <td>23</td>\n",
       "      <td>58</td>\n",
       "      <td>3.998796</td>\n",
       "    </tr>\n",
       "    <tr>\n",
       "      <th>3</th>\n",
       "      <td>2019-06-09 08:59:37.719685</td>\n",
       "      <td>2019</td>\n",
       "      <td>6</td>\n",
       "      <td>9</td>\n",
       "      <td>6</td>\n",
       "      <td>8</td>\n",
       "      <td>59</td>\n",
       "      <td>6.374722</td>\n",
       "    </tr>\n",
       "    <tr>\n",
       "      <th>4</th>\n",
       "      <td>2019-06-07 08:28:21.478553</td>\n",
       "      <td>2019</td>\n",
       "      <td>6</td>\n",
       "      <td>7</td>\n",
       "      <td>4</td>\n",
       "      <td>8</td>\n",
       "      <td>28</td>\n",
       "      <td>4.353009</td>\n",
       "    </tr>\n",
       "    <tr>\n",
       "      <th>...</th>\n",
       "      <td>...</td>\n",
       "      <td>...</td>\n",
       "      <td>...</td>\n",
       "      <td>...</td>\n",
       "      <td>...</td>\n",
       "      <td>...</td>\n",
       "      <td>...</td>\n",
       "      <td>...</td>\n",
       "    </tr>\n",
       "    <tr>\n",
       "      <th>499995</th>\n",
       "      <td>2019-06-06 23:14:18.267242</td>\n",
       "      <td>2019</td>\n",
       "      <td>6</td>\n",
       "      <td>6</td>\n",
       "      <td>3</td>\n",
       "      <td>23</td>\n",
       "      <td>14</td>\n",
       "      <td>3.968252</td>\n",
       "    </tr>\n",
       "    <tr>\n",
       "      <th>499996</th>\n",
       "      <td>2019-06-06 17:40:54.045280</td>\n",
       "      <td>2019</td>\n",
       "      <td>6</td>\n",
       "      <td>6</td>\n",
       "      <td>3</td>\n",
       "      <td>17</td>\n",
       "      <td>40</td>\n",
       "      <td>3.736713</td>\n",
       "    </tr>\n",
       "    <tr>\n",
       "      <th>499997</th>\n",
       "      <td>2019-06-05 03:14:57.290064</td>\n",
       "      <td>2019</td>\n",
       "      <td>6</td>\n",
       "      <td>5</td>\n",
       "      <td>2</td>\n",
       "      <td>3</td>\n",
       "      <td>14</td>\n",
       "      <td>2.135370</td>\n",
       "    </tr>\n",
       "    <tr>\n",
       "      <th>499998</th>\n",
       "      <td>2019-06-07 00:59:27.651521</td>\n",
       "      <td>2019</td>\n",
       "      <td>6</td>\n",
       "      <td>7</td>\n",
       "      <td>4</td>\n",
       "      <td>0</td>\n",
       "      <td>59</td>\n",
       "      <td>4.041273</td>\n",
       "    </tr>\n",
       "    <tr>\n",
       "      <th>499999</th>\n",
       "      <td>2019-06-07 23:32:46.472229</td>\n",
       "      <td>2019</td>\n",
       "      <td>6</td>\n",
       "      <td>7</td>\n",
       "      <td>4</td>\n",
       "      <td>23</td>\n",
       "      <td>32</td>\n",
       "      <td>4.981076</td>\n",
       "    </tr>\n",
       "  </tbody>\n",
       "</table>\n",
       "<p>500000 rows × 8 columns</p>\n",
       "</div>"
      ],
      "text/plain": [
       "                        timestamp  year  month  day  week_day  hour  minute  \\\n",
       "0      2019-06-07 15:32:08.241721  2019      6    7         4    15      32   \n",
       "1      2019-06-08 19:40:20.922229  2019      6    8         5    19      40   \n",
       "2      2019-06-06 23:58:17.549109  2019      6    6         3    23      58   \n",
       "3      2019-06-09 08:59:37.719685  2019      6    9         6     8      59   \n",
       "4      2019-06-07 08:28:21.478553  2019      6    7         4     8      28   \n",
       "...                           ...   ...    ...  ...       ...   ...     ...   \n",
       "499995 2019-06-06 23:14:18.267242  2019      6    6         3    23      14   \n",
       "499996 2019-06-06 17:40:54.045280  2019      6    6         3    17      40   \n",
       "499997 2019-06-05 03:14:57.290064  2019      6    5         2     3      14   \n",
       "499998 2019-06-07 00:59:27.651521  2019      6    7         4     0      59   \n",
       "499999 2019-06-07 23:32:46.472229  2019      6    7         4    23      32   \n",
       "\n",
       "        time_diff  \n",
       "0        4.647303  \n",
       "1        5.819664  \n",
       "2        3.998796  \n",
       "3        6.374722  \n",
       "4        4.353009  \n",
       "...           ...  \n",
       "499995   3.968252  \n",
       "499996   3.736713  \n",
       "499997   2.135370  \n",
       "499998   4.041273  \n",
       "499999   4.981076  \n",
       "\n",
       "[500000 rows x 8 columns]"
      ]
     },
     "execution_count": 106,
     "metadata": {},
     "output_type": "execute_result"
    }
   ],
   "source": [
    "# 求时间的diff\r\n",
    "start_time = features['timestamp'].min()\r\n",
    "features['time_diff'] = features['timestamp'] - start_time\r\n",
    "features['time_diff'] = features['time_diff'].dt.days + features['time_diff'].dt.seconds/3600/24\r\n",
    "features[['timestamp', 'year', 'month', 'day', 'week_day', 'hour', 'minute', 'time_diff']]\r\n"
   ]
  },
  {
   "cell_type": "code",
   "execution_count": 107,
   "metadata": {
    "collapsed": false
   },
   "outputs": [],
   "source": [
    "# 创建时间戳索引\r\n",
    "temp = pd.DatetimeIndex(test_features['timestamp'])\r\n",
    "test_features['year'] = temp.year\r\n",
    "test_features['month'] = temp.month\r\n",
    "test_features['day'] = temp.day\r\n",
    "test_features['week_day'] = temp.weekday #星期几\r\n",
    "test_features['hour'] = temp.hour\r\n",
    "test_features['minute'] = temp.minute\r\n"
   ]
  },
  {
   "cell_type": "code",
   "execution_count": 108,
   "metadata": {
    "collapsed": false
   },
   "outputs": [
    {
     "data": {
      "text/plain": [
       "0         4.405081\n",
       "1         2.870509\n",
       "2         1.422488\n",
       "3         2.043854\n",
       "4         2.344826\n",
       "            ...   \n",
       "149995    5.389954\n",
       "149996    4.302731\n",
       "149997    6.367338\n",
       "149998    2.276539\n",
       "149999    5.307801\n",
       "Name: time_diff, Length: 150000, dtype: float64"
      ]
     },
     "execution_count": 108,
     "metadata": {},
     "output_type": "execute_result"
    }
   ],
   "source": [
    "# 求时间的diff\r\n",
    "#start_time = features['timestamp'].min()\r\n",
    "test_features['time_diff'] = test_features['timestamp'] - start_time\r\n",
    "test_features['time_diff'] = test_features['time_diff'].dt.days + test_features['time_diff'].dt.seconds/3600/24\r\n",
    "#test_features[['timestamp', 'year', 'month', 'day', 'week_day', 'hour', 'minute', 'time_diff']]\r\n",
    "test_features['time_diff']\r\n"
   ]
  },
  {
   "cell_type": "code",
   "execution_count": null,
   "metadata": {
    "collapsed": false
   },
   "outputs": [],
   "source": []
  },
  {
   "cell_type": "code",
   "execution_count": 109,
   "metadata": {
    "collapsed": false
   },
   "outputs": [],
   "source": [
    "temp0 = train[train['label']==0]\r\n",
    "temp = pd.DataFrame(columns=[0,1])\r\n",
    "temp[0] = temp0['apptype'].value_counts() /len(temp0) *100\r\n"
   ]
  },
  {
   "cell_type": "code",
   "execution_count": 110,
   "metadata": {
    "collapsed": false
   },
   "outputs": [],
   "source": [
    "temp1 = train[train['label']==1]\r\n",
    "temp[1] = temp1['apptype'].value_counts() /len(temp1) *100"
   ]
  },
  {
   "cell_type": "code",
   "execution_count": 111,
   "metadata": {
    "collapsed": false
   },
   "outputs": [
    {
     "data": {
      "text/plain": [
       "Int64Index([1139, 716, 941, 851, 1034, 1067], dtype='int64')"
      ]
     },
     "execution_count": 111,
     "metadata": {},
     "output_type": "execute_result"
    }
   ],
   "source": [
    "#构造特征比\r\n",
    "temp[2] = temp[1] /temp[0]\r\n",
    "#筛选出来特征比大于10倍的特征\r\n",
    "result = temp[temp[2] > 10 ].sort_values(2,ascending=False).index\r\n",
    "result"
   ]
  },
  {
   "cell_type": "code",
   "execution_count": 112,
   "metadata": {
    "collapsed": false
   },
   "outputs": [],
   "source": [
    "#特征比 >10 效果好\r\n",
    "def find_key_feature(train,selected):\r\n",
    "    temp0 = train[train['label']==0]\r\n",
    "    temp = pd.DataFrame(columns=[0,1])\r\n",
    "    temp[0] = temp0[selected].value_counts() / len(temp0) * 100 #百分比\r\n",
    "\r\n",
    "    temp1 =train[train['label']==1]\r\n",
    "    temp[1] = temp1[selected].value_counts() / len(temp1) * 100 #百分比\r\n",
    "    #构造特征比\r\n",
    "    temp[2] = temp[1] /temp[0]\r\n",
    "    #筛选出来特征比大于10倍的特征\r\n",
    "    result = temp[temp[2] > 10].sort_values(2,ascending=False).index\r\n",
    "    return result\r\n"
   ]
  },
  {
   "cell_type": "code",
   "execution_count": 113,
   "metadata": {
    "collapsed": false
   },
   "outputs": [
    {
     "data": {
      "text/plain": [
       "{'osv': Float64Index([   7.77,    7.21,    7.75,    7.85,    7.87,     3.8,    7.67,\n",
       "                   3.9,     2.3,    8.01,     7.9,    3.84,    7.64,    7.89,\n",
       "               21100.0,    7.92,     4.1,    7.72,    7.82,     7.8,    3.86,\n",
       "                   7.7,    7.84,    7.68, 21000.0,    7.86,    7.73,     6.1,\n",
       "                  3.83,    3.78,    7.74],\n",
       "              dtype='float64')}"
      ]
     },
     "execution_count": 113,
     "metadata": {},
     "output_type": "execute_result"
    }
   ],
   "source": [
    "key_feature = {}\r\n",
    "key_feature['osv'] = find_key_feature(train,'osv')\r\n",
    "key_feature\r\n"
   ]
  },
  {
   "cell_type": "code",
   "execution_count": 114,
   "metadata": {
    "collapsed": false
   },
   "outputs": [],
   "source": [
    "#将重要的特征值设置为1 否则为0\r\n",
    "def f(x):\r\n",
    "    if x in key_feature['osv']:\r\n",
    "        return 1\r\n",
    "    else:\r\n",
    "        return 0\r\n"
   ]
  },
  {
   "cell_type": "code",
   "execution_count": 115,
   "metadata": {
    "collapsed": false
   },
   "outputs": [
    {
     "data": {
      "text/plain": [
       "{'apptype': Int64Index([1139, 716, 941, 851, 1034, 1067], dtype='int64')}"
      ]
     },
     "execution_count": 115,
     "metadata": {},
     "output_type": "execute_result"
    }
   ],
   "source": [
    "key_feature1 = {}\r\n",
    "key_feature1['apptype'] = find_key_feature(train,'apptype')\r\n",
    "key_feature1"
   ]
  },
  {
   "cell_type": "code",
   "execution_count": 116,
   "metadata": {
    "collapsed": false
   },
   "outputs": [],
   "source": [
    "#将重要的特征值设置为1 否则为0\r\n",
    "def f1(x):\r\n",
    "    if x in key_feature1['apptype']:\r\n",
    "        return 1\r\n",
    "    else:\r\n",
    "        return 0\r\n"
   ]
  },
  {
   "cell_type": "code",
   "execution_count": 117,
   "metadata": {
    "collapsed": false
   },
   "outputs": [
    {
     "data": {
      "text/plain": [
       "0    483294\n",
       "1     16706\n",
       "Name: osv1, dtype: int64"
      ]
     },
     "execution_count": 117,
     "metadata": {},
     "output_type": "execute_result"
    }
   ],
   "source": [
    "features['osv1'] = features['osv'].apply(f)\r\n",
    "test_features['osv1'] = test_features['osv'].apply(f)\r\n",
    "features['osv1'].value_counts()\r\n"
   ]
  },
  {
   "cell_type": "code",
   "execution_count": 118,
   "metadata": {
    "collapsed": false
   },
   "outputs": [
    {
     "data": {
      "text/plain": [
       "0    481614\n",
       "1     18386\n",
       "Name: apptype1, dtype: int64"
      ]
     },
     "execution_count": 118,
     "metadata": {},
     "output_type": "execute_result"
    }
   ],
   "source": [
    "features['apptype1'] = features['apptype'].apply(f1)\r\n",
    "test_features['apptype1'] = test_features['apptype'].apply(f1)\r\n",
    "features['apptype1'].value_counts()\r\n"
   ]
  },
  {
   "cell_type": "code",
   "execution_count": 119,
   "metadata": {
    "collapsed": false
   },
   "outputs": [
    {
     "data": {
      "text/plain": [
       "\"\\nimport re\\nfeatures = features.rename(columns = lambda x:re.sub('[^A-Za-z0-9_]+', '', x))\\ntest_features = test_features.rename(columns = lambda x:re.sub('[^A-Za-z0-9_]+', '', x))\\n\""
      ]
     },
     "execution_count": 119,
     "metadata": {},
     "output_type": "execute_result"
    }
   ],
   "source": [
    "'''\r\n",
    "import re\r\n",
    "features = features.rename(columns = lambda x:re.sub('[^A-Za-z0-9_]+', '', x))\r\n",
    "test_features = test_features.rename(columns = lambda x:re.sub('[^A-Za-z0-9_]+', '', x))\r\n",
    "'''"
   ]
  },
  {
   "cell_type": "code",
   "execution_count": 120,
   "metadata": {
    "collapsed": false
   },
   "outputs": [],
   "source": [
    "from sklearn.model_selection import StratifiedKFold\r\n",
    "from sklearn.metrics import accuracy_score\r\n",
    "# 使用LGBM训练\r\n",
    "import lightgbm as lgb\r\n",
    "# 使用XGBM训练\r\n",
    "import xgboost as xgb\r\n"
   ]
  },
  {
   "cell_type": "code",
   "execution_count": 121,
   "metadata": {
    "collapsed": false
   },
   "outputs": [],
   "source": [
    "#五折交叉验证\r\n",
    "def lgb_model(clf,train_x,train_y,test):\r\n",
    "    sk = StratifiedKFold(n_splits=5,random_state=2021,shuffle=True)\r\n",
    "    mean_acc = 0\r\n",
    "    prob = []\r\n",
    "    #split时，传入feature和label\r\n",
    "    for k,(train_index,val_index) in enumerate(sk.split(train_x,train_y)):\r\n",
    "        #获取训练集特征和label\r\n",
    "        train_x_real = train_x.iloc[train_index]\r\n",
    "        train_y_real = train_y.iloc[train_index]\r\n",
    "        #获取验证集特征和label\r\n",
    "        val_x = train_x.iloc[val_index]\r\n",
    "        val_y = train_y.iloc[val_index]\r\n",
    "        #模型训练\r\n",
    "        clf = clf.fit(train_x_real,train_y_real)\r\n",
    "        #模型预测\r\n",
    "        val_y_pred = clf.predict(val_x)\r\n",
    "        acc_val = accuracy_score(val_y,val_y_pred)\r\n",
    "        print('第{}个子模型 accuracy{}'.format(k+1,acc_val))\r\n",
    "        mean_acc += acc_val / 5\r\n",
    "        #对测试集进行预测\r\n",
    "        test_y_pred =clf.predict_proba(test)\r\n",
    "        prob.append(test_y_pred)\r\n",
    "    print(mean_acc)\r\n",
    "    mean_prob =sum(prob)/5\r\n",
    "    return mean_prob\r\n"
   ]
  },
  {
   "cell_type": "code",
   "execution_count": 80,
   "metadata": {
    "collapsed": false
   },
   "outputs": [],
   "source": [
    "#使用五折子模型进行融合lgb\r\n",
    "'''\r\n",
    "model_lgb2 = lgb.LGBMClassifier(\r\n",
    "            num_leaves=2**5-1, reg_alpha=0.25, reg_lambda=0.25, objective='binary',\r\n",
    "            max_depth=-1, learning_rate=0.005, min_child_samples=3, random_state=2021,\r\n",
    "            n_estimators=2000, subsample=1, colsample_bytree=1,\r\n",
    "        )\r\n",
    "'''\r\n",
    "#使用五折子模型进行融合xgb\r\n",
    "model_xgb = xgb.XGBClassifier(\r\n",
    "            max_depth=15, learning_rate=0.005, n_estimators=2000, \r\n",
    "            objective='binary:logistic', tree_method='gpu_hist', \r\n",
    "            subsample=0.8, colsample_bytree=0.8, \r\n",
    "            min_child_samples=3, eval_metric='auc', reg_lambda=0.5\r\n",
    "        )\r\n"
   ]
  },
  {
   "cell_type": "code",
   "execution_count": 81,
   "metadata": {
    "collapsed": false
   },
   "outputs": [
    {
     "data": {
      "text/plain": [
       "Index(['android_id', 'apptype', 'carrier', 'dev_height', 'dev_ppi',\n",
       "       'dev_width', 'lan', 'media_id', 'ntt', 'osv', 'package', 'timestamp',\n",
       "       'version', 'fea_hash', 'location', 'fea1_hash', 'cus_type',\n",
       "       'fea_hash_len', 'fea1_hash_len', 'dev_area', 'height_width',\n",
       "       'version_osv', 'year', 'month', 'day', 'week_day', 'hour', 'minute',\n",
       "       'time_diff', 'osv1', 'apptype1'],\n",
       "      dtype='object')"
      ]
     },
     "execution_count": 81,
     "metadata": {},
     "output_type": "execute_result"
    }
   ],
   "source": [
    "test_features.columns"
   ]
  },
  {
   "cell_type": "code",
   "execution_count": 82,
   "metadata": {
    "collapsed": false
   },
   "outputs": [
    {
     "name": "stdout",
     "output_type": "stream",
     "text": [
      "[23:51:28] WARNING: ../src/learner.cc:541: \n",
      "Parameters: { min_child_samples } might not be used.\n",
      "\n",
      "  This may not be accurate due to some parameters are only used in language bindings but\n",
      "  passed down to XGBoost core.  Or some parameters are not used but slip through this\n",
      "  verification. Please open an issue if you find above cases.\n",
      "\n",
      "\n"
     ]
    }
   ],
   "source": [
    "%%time\r\n",
    "#result_lgb2 = lgb_model(model_lgb2,features.drop(['timestamp','dev_height','dev_width'], axis=1), train['label'],test_features.drop(['timestamp','dev_height','dev_width'], axis=1))\r\n",
    "result_lgb2 = lgb_model(model_xgb,features.drop(['timestamp','dev_height','dev_width'], axis=1), train['label'],test_features.drop(['timestamp','dev_height','dev_width'], axis=1))\r\n",
    "\r\n",
    "result_lgb2\r\n"
   ]
  },
  {
   "cell_type": "code",
   "execution_count": 83,
   "metadata": {
    "collapsed": false
   },
   "outputs": [],
   "source": [
    "def one_hot(x):\r\n",
    "    if x < 0.5:\r\n",
    "        x =0\r\n",
    "    else:\r\n",
    "        x =1\r\n",
    "    return x\r\n"
   ]
  },
  {
   "cell_type": "code",
   "execution_count": 84,
   "metadata": {
    "collapsed": false
   },
   "outputs": [],
   "source": [
    "result_lgb_proba=[one_hot(x[1]) for x in result_lgb2]\r\n",
    "result_lgb_proba\r\n",
    "res = pd.DataFrame(test['sid'])\r\n",
    "res['label'] = result_lgb_proba\r\n",
    "res.to_csv('./add_dev_area_version_osv2_xgb_五折交叉验证2.csv',index=False)\r\n",
    "res \r\n"
   ]
  }
 ],
 "metadata": {
  "kernelspec": {
   "display_name": "PaddlePaddle 2.1.0 (Python 3.5)",
   "language": "python",
   "name": "py35-paddle1.2.0"
  }
 },
 "nbformat": 4,
 "nbformat_minor": 1
}
